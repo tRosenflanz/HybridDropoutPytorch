{
 "cells": [
  {
   "cell_type": "code",
   "execution_count": 1,
   "metadata": {},
   "outputs": [],
   "source": [
    "import torch\n",
    "import torch.utils.data\n",
    "import torchvision\n",
    "import torch.nn as nn\n",
    "import torch.nn.functional as F\n",
    "import torch.optim as optim\n",
    "import matplotlib.pyplot as plt\n",
    "from hybrid_drop import *\n",
    "import numpy as np\n",
    "import pickle \n",
    "import sys\n",
    "import os "
   ]
  },
  {
   "cell_type": "code",
   "execution_count": 2,
   "metadata": {},
   "outputs": [],
   "source": [
    "train_loader = torch.utils.data.DataLoader(\n",
    "                        torchvision.datasets.MNIST('/files/', train=True,download=True,\n",
    "                             transform=torchvision.transforms.Compose([\n",
    "                               torchvision.transforms.ToTensor(),\n",
    "                               torchvision.transforms.Normalize((0.1307,), (0.3081,))])),\n",
    "                        batch_size=3, shuffle=True,pin_memory=False,num_workers=0)\n"
   ]
  },
  {
   "cell_type": "code",
   "execution_count": 3,
   "metadata": {},
   "outputs": [],
   "source": [
    "data, target = next(iter(train_loader))"
   ]
  },
  {
   "cell_type": "code",
   "execution_count": 9,
   "metadata": {},
   "outputs": [
    {
     "data": {
      "image/png": "[encoded data removed]",
      "text/plain": [
       "<Figure size 1080x720 with 9 Axes>"
      ]
     },
     "metadata": {
      "needs_background": "light"
     },
     "output_type": "display_data"
    }
   ],
   "source": [
    "transform = HybridDropout_Normal(.3)\n",
    "elems = len(data)\n",
    "fig, axes = plt.subplots(3,elems,figsize=(15,10))\n",
    "for i in range(len(data)*3):\n",
    "    axis = axes[i//elems][i%elems]\n",
    "    if i<len(data):\n",
    "        #original Image\"\n",
    "        axis.imshow(data[i%elems][0])\n",
    "    elif i<2*len(data):\n",
    "        #ordinary dropout\n",
    "        axis.imshow(nn.Dropout(.4)(data)[i%elems][0])\n",
    "    else:\n",
    "        #hybrid dropout\n",
    "        axis.imshow(transform(data)[i%elems][0])\n"
   ]
  },
  {
   "cell_type": "code",
   "execution_count": 5,
   "metadata": {},
   "outputs": [],
   "source": [
    "def bootstrap_func(data,func,n_samples=1000):\n",
    "    \"\"\"\n",
    "    Performs bootstrap to compute arbitrary statistic\n",
    "    -data data to bootstrap from\n",
    "    -func function to apply to calculate statistic (e.g. mean for calculating means)\n",
    "    -n_samples number of bootstrap samples to perform\n",
    "    \"\"\"\n",
    "    result = []\n",
    "    for _ in range(n_samples):\n",
    "        #resample and compute statistic\n",
    "        param = func(np.random.choice(data,size=len(data))) \n",
    "        #store statistic\n",
    "        result.append(param)\n",
    "    return np.array(result)"
   ]
  },
  {
   "cell_type": "code",
   "execution_count": null,
   "metadata": {},
   "outputs": [],
   "source": [
    "#Load data\n",
    "folder = 'point5_longer/'\n",
    "data_normal = []\n",
    "data_hybrid_normal = []\n",
    "for file in os.listdir('/data/'+folder):\n",
    "    if file[:6]=='normal':\n",
    "        with open('/data/'+folder+file,'rb') as f:\n",
    "            data_normal.append(pickle.load(f))\n",
    "    if file[:13]=='hybrid_normal':\n",
    "        with open('/data/'+folder+file,'rb') as f:\n",
    "            data_hybrid_normal.append(pickle.load(f))\n",
    "\n"
   ]
  },
  {
   "cell_type": "code",
   "execution_count": null,
   "metadata": {},
   "outputs": [],
   "source": [
    "#Separate into relevant arrays\n",
    "train_losses_normal = np.array([x[0] for x in data_normal])\n",
    "train_losses_hybrid_normal = np.array([x[0] for x in data_hybrid_normal])\n",
    "test_losses_normal = np.array([x[3] for x in data_normal])\n",
    "test_losses_hybrid_normal = np.array([x[3] for x in data_hybrid_normal])\n",
    "test_correct_normal = np.array([x[-1] for x in data_normal])\n",
    "test_correct_hybrid_normal = np.array([x[-1] for x in data_hybrid_normal])\n",
    "\n",
    "train_counter = data_hybrid_normal[0][2]\n",
    "test_counter = data_hybrid_normal[0][4]"
   ]
  },
  {
   "cell_type": "code",
   "execution_count": null,
   "metadata": {},
   "outputs": [],
   "source": [
    "fig, axes = plt.subplots(1,2,figsize = (15,5))\n",
    "ax1,ax2 = axes\n",
    "\n",
    "ax1.plot(train_counter,\n",
    "         np.convolve(train_losses_normal[0],np.ones((200,))/200,mode='same',),\n",
    "         color='steelblue')\n",
    "ax1.plot(test_counter,test_losses_normal[0],\n",
    "         color='firebrick')\n",
    "ax1.legend(['Train Loss', 'Test Loss'], loc='upper right')\n",
    "ax1.set_ylim([0,0.1])\n",
    "ax1.set_title('Ordinary Dropout With .2 rate',fontdict={'fontsize':14})\n",
    "ax1.set_xlabel('# of training examples seen')\n",
    "ax1.set_ylabel('Negative log likelihood loss')\n",
    "\n",
    "\n",
    "ax2.plot(train_counter,\n",
    "         np.convolve(train_losses_hybrid_normal[0],np.ones((200,))/200,mode='same',),\n",
    "         color='steelblue')\n",
    "ax2.plot(test_counter,test_losses_hybrid_normal[0],\n",
    "         color='firebrick')\n",
    "ax2.legend(['Train Loss', 'Test Loss'], loc='upper right')\n",
    "ax2.set_ylim([0,.3])\n",
    "ax2.set_title('Hybrid Dropout With .2 rate',fontdict={'fontsize':14})\n",
    "ax2.set_xlabel('# of training examples seen')\n",
    "ax2.set_ylabel('Negative log likelihood loss')\n",
    "plt.show()"
   ]
  },
  {
   "cell_type": "code",
   "execution_count": null,
   "metadata": {},
   "outputs": [],
   "source": [
    "fig, axes = plt.subplots(1,2,figsize = (15,5))\n",
    "ax1,ax2 = axes\n",
    "ax1.plot(test_counter,\n",
    "         np.mean(test_losses_normal,0),\n",
    "         color='steelblue')\n",
    "ax1.plot(test_counter,\n",
    "         np.mean(test_losses_hybrid_normal,0),\n",
    "         color='firebrick')\n",
    "ax1.legend(['Ordinary Dropout', 'Hybrid Dropout'], loc='upper right')\n",
    "ax1.set_title('Test Losses With .2 dropout rate',fontdict={'fontsize':14})\n",
    "ax1.set_xlabel('# of training examples seen')\n",
    "ax1.set_ylim([0,.1])\n",
    "ax1.set_ylabel('Negative log likelihood loss')\n",
    "\n",
    "differences = [bootstrap_func(test_losses_hybrid_normal[:,i],np.mean,100)-bootstrap_func(test_losses_normal[:,i],np.mean,100) for i in range(len(test_correct_normal[0]))]\n",
    "ax2.plot(test_counter,\n",
    "         np.mean(differences,axis=1),\n",
    "         color='firebrick')\n",
    "lower,upper = np.percentile(differences,[2.5,97.5],axis=1)\n",
    "ax2.fill_between(test_counter, lower, upper, facecolor='blue', alpha=0.2)\n",
    "\n",
    "ax2.legend(['Mean Gap', '95% Confidence Bound'], loc='upper right')\n",
    "ax2.hlines(0,0,test_counter[-1])\n",
    "ax2.set_ylim([-.02,.02])\n",
    "ax2.set_title('Test Loss Gap between Hybrid and \\n Ordinary Dropout With .2 dropout rate',fontdict={'fontsize':14})\n",
    "ax2.set_xlabel('# of training examples seen')\n",
    "ax2.set_ylabel('Negative log likelihood loss gap')\n",
    "plt.show()\n"
   ]
  },
  {
   "cell_type": "code",
   "execution_count": null,
   "metadata": {},
   "outputs": [],
   "source": [
    "fig, axes = plt.subplots(1,2,figsize = (15,5))\n",
    "ax1,ax2 = axes\n",
    "ax1.plot(test_counter,\n",
    "         10000-np.mean(test_correct_normal,0),\n",
    "         color='steelblue')\n",
    "ax1.plot(test_counter,\n",
    "         10000-np.mean(test_correct_hybrid_normal,0),\n",
    "         color='firebrick')\n",
    "ax1.legend(['Ordinary Dropout', 'Hybrid Dropout'], loc='upper right')\n",
    "ax1.set_title('Test Misclassification With .2 dropout rate',fontdict={'fontsize':14})\n",
    "ax1.set_xlabel('# of training examples seen')\n",
    "ax1.set_ylim([0,100])\n",
    "ax1.set_ylabel('Number of incorrectly classified samples')\n",
    "\n",
    "differences = [bootstrap_func(test_correct_hybrid_normal[:,i],np.mean,100)-bootstrap_func(test_correct_normal[:,i],np.mean,100) for i in range(len(test_correct_normal[0]))]\n",
    "ax2.plot(test_counter,\n",
    "         np.mean(differences,axis=1),\n",
    "         color='firebrick')\n",
    "lower,upper = np.percentile(differences,[2.5,97.5],axis=1)\n",
    "ax2.fill_between(test_counter, lower, upper, facecolor='blue', alpha=0.2)\n",
    "\n",
    "ax2.legend(['Mean Gap', '95% Confidence Bound'], loc='upper right')\n",
    "ax2.hlines(0,0,test_counter[-1])\n",
    "ax2.set_ylim([-20,20])\n",
    "ax2.set_title('Test Misclassification Gap between Hybrid and \\n Ordinary Dropout With .2 dropout rate',fontdict={'fontsize':14})\n",
    "ax2.set_xlabel('# of training examples seen')\n",
    "ax2.set_ylabel('Correct samples gap')\n",
    "plt.show()\n"
   ]
  }
 ],
 "metadata": {
  "kernelspec": {
   "display_name": "Python 3",
   "language": "python",
   "name": "python3"
  },
  "language_info": {
   "codemirror_mode": {
    "name": "ipython",
    "version": 3
   },
   "file_extension": ".py",
   "mimetype": "text/x-python",
   "name": "python",
   "nbconvert_exporter": "python",
   "pygments_lexer": "ipython3",
   "version": "3.6.6"
  }
 },
 "nbformat": 4,
 "nbformat_minor": 2
}
