{
 "cells": [
  {
   "cell_type": "code",
   "execution_count": 1,
   "metadata": {},
   "outputs": [],
   "source": [
    "import torch\n",
    "import torch.utils.data\n",
    "import torchvision\n",
    "import torch.nn as nn\n",
    "import torch.nn.functional as F\n",
    "import torch.optim as optim\n",
    "import matplotlib.pyplot as plt\n",
    "import numpy as np\n",
    "import pickle "
   ]
  },
  {
   "cell_type": "code",
   "execution_count": 2,
   "metadata": {},
   "outputs": [
    {
     "data": {
      "text/plain": [
       "<torch._C.Generator at 0x7ff15c0768f0>"
      ]
     },
     "execution_count": 2,
     "metadata": {},
     "output_type": "execute_result"
    }
   ],
   "source": [
    "n_epochs = 50\n",
    "batch_size_train = 128\n",
    "batch_size_test = 1000\n",
    "log_interval = 100\n",
    "drop_rate = .6\n",
    "random_seed = np.random.randint(low=1,high=1000000000)\n",
    "torch.backends.cudnn.enabled = True\n",
    "torch.manual_seed(random_seed)\n",
    "\n"
   ]
  },
  {
   "cell_type": "code",
   "execution_count": 3,
   "metadata": {},
   "outputs": [],
   "source": [
    "train_loader = torch.utils.data.DataLoader(\n",
    "                        torchvision.datasets.MNIST('/files/', train=True,download=True,\n",
    "                             transform=torchvision.transforms.Compose([\n",
    "                               torchvision.transforms.ToTensor(),\n",
    "                               torchvision.transforms.Normalize((0.1307,), (0.3081,))])),\n",
    "                        batch_size=batch_size_train, shuffle=True,pin_memory=True,num_workers=0)\n",
    "\n",
    "test_loader = torch.utils.data.DataLoader(\n",
    "                        torchvision.datasets.MNIST('/files/', train=False, download=True,\n",
    "                                                     transform=torchvision.transforms.Compose([\n",
    "                                                       torchvision.transforms.ToTensor(),\n",
    "                                                       torchvision.transforms.Normalize(\n",
    "                                                         (0.1307,), (0.3081,))\n",
    "                                                     ])),\n",
    "                        batch_size=batch_size_test, shuffle=False,pin_memory=True,num_workers=0)"
   ]
  },
  {
   "cell_type": "code",
   "execution_count": 4,
   "metadata": {},
   "outputs": [],
   "source": [
    "examples = enumerate(test_loader)\n",
    "batch_idx, (example_data, example_targets) = next(examples)"
   ]
  },
  {
   "cell_type": "code",
   "execution_count": 5,
   "metadata": {},
   "outputs": [
    {
     "data": {
      "image/png": "[encoded data removed]",
      "text/plain": [
       "<Figure size 432x288 with 6 Axes>"
      ]
     },
     "metadata": {},
     "output_type": "display_data"
    }
   ],
   "source": [
    "\n",
    "fig = plt.figure()\n",
    "for i in range(6):\n",
    "    plt.subplot(2,3,i+1)\n",
    "    plt.tight_layout()\n",
    "    plt.imshow(example_data[i][0], cmap='gray', interpolation='none')\n",
    "    plt.title(\"Ground Truth: {}\".format(example_targets[i]))\n",
    "    plt.xticks([])\n",
    "    plt.yticks([])\n",
    "plt.show()"
   ]
  },
  {
   "cell_type": "code",
   "execution_count": 6,
   "metadata": {},
   "outputs": [],
   "source": [
    "class Flatten(nn.Module):\n",
    "    def forward(self, x):\n",
    "        return x.view(x.size(0), -1)\n",
    "\n",
    "class Net(nn.Module):\n",
    "    def __init__(self,drop):\n",
    "        super(Net, self).__init__()\n",
    "        self.regularization = nn.Dropout(drop/2)\n",
    "        self.block1 = Basic_Block(1,drop).cuda()\n",
    "        self.block2 = Basic_Block(32,drop).cuda()\n",
    "        self.fc1 = nn.Linear(1568, 10)\n",
    "\n",
    "    def forward(self, x):\n",
    "        x = self.regularization(x)\n",
    "        x = self.block1(x)\n",
    "        x = self.block2(x)\n",
    "        x = Flatten()(x)\n",
    "        x = self.fc1(x)\n",
    "        return F.log_softmax(x,-1)\n",
    "    \n",
    "class Basic_Block(nn.Module):\n",
    "    def __init__(self,inp,drop):\n",
    "        super(Basic_Block, self).__init__()\n",
    "        self.conv1 = nn.Conv2d(inp, 32, kernel_size=5,padding=2)\n",
    "        self.regularization = nn.Dropout(drop)\n",
    "        self.conv2 = nn.Conv2d(32, 32, kernel_size=5,padding=2)\n",
    "        \n",
    "    def forward(self, x):\n",
    "        x = F.relu(self.conv1(x))\n",
    "        x = self.regularization(x)\n",
    "        x = F.relu(self.conv2(x))\n",
    "        x = F.max_pool2d(x,2)\n",
    "        x = self.regularization(x)\n",
    "        return x"
   ]
  },
  {
   "cell_type": "code",
   "execution_count": 7,
   "metadata": {},
   "outputs": [],
   "source": [
    "network = Net(drop_rate)\n",
    "network = network.cuda()\n",
    "optimizer = optim.Adam(network.parameters())"
   ]
  },
  {
   "cell_type": "code",
   "execution_count": 8,
   "metadata": {},
   "outputs": [],
   "source": [
    "train_losses = []\n",
    "train_correct = []\n",
    "train_counter = []\n",
    "test_losses = []\n",
    "test_counter = []\n",
    "test_correct = []"
   ]
  },
  {
   "cell_type": "code",
   "execution_count": 9,
   "metadata": {},
   "outputs": [],
   "source": [
    "def test():\n",
    "    network.eval()\n",
    "    test_loss = 0\n",
    "    correct = 0\n",
    "    with torch.no_grad():\n",
    "        for data, target in test_loader:\n",
    "            data = data.cuda()\n",
    "            target  = target.cuda()\n",
    "            output = network(data)\n",
    "            test_loss += F.nll_loss(output, target, size_average=False).item()\n",
    "            pred = output.data.max(1, keepdim=True)[1]\n",
    "            correct += pred.eq(target.data.view_as(pred)).sum().item()\n",
    "        test_loss /= len(test_loader.dataset)\n",
    "        test_losses.append(test_loss)\n",
    "        test_correct.append(correct)"
   ]
  },
  {
   "cell_type": "code",
   "execution_count": 10,
   "metadata": {},
   "outputs": [],
   "source": [
    "def train(epoch):\n",
    "    network.train()\n",
    "    correct =0\n",
    "    for batch_idx, (data, target) in enumerate(train_loader):\n",
    "        data = data.cuda()\n",
    "        target  = target.cuda()\n",
    "        optimizer.zero_grad()\n",
    "        output = network(data)\n",
    "        pred = output.data.max(1, keepdim=True)[1]     \n",
    "        loss = F.nll_loss(output, target)\n",
    "        loss.backward()\n",
    "        optimizer.step()\n",
    "        if batch_idx%(2*log_interval)==0:\n",
    "            test()\n",
    "            test_counter.append((batch_idx*batch_size_train) + ((epoch-1)*len(train_loader.dataset)))\n",
    "            \n",
    "        correct+=pred.eq(target.data.view_as(pred)).sum().item()\n",
    "        train_losses.append(loss.item())\n",
    "        train_correct.append(correct)\n",
    "        train_counter.append(\n",
    "        (batch_idx*batch_size_train) + ((epoch-1)*len(train_loader.dataset)))\n",
    "    \n",
    "    train_correct.append(correct)\n"
   ]
  },
  {
   "cell_type": "code",
   "execution_count": 11,
   "metadata": {},
   "outputs": [
    {
     "name": "stderr",
     "output_type": "stream",
     "text": [
      "/usr/local/lib/python3.5/dist-packages/torch/nn/functional.py:52: UserWarning: size_average and reduce args will be deprecated, please use reduction='sum' instead.\n",
      "  warnings.warn(warning.format(ret))\n"
     ]
    },
    {
     "name": "stdout",
     "output_type": "stream",
     "text": [
      "Train Epoch: 1 Loss: 0.003221 Val_Loss:0.047447 Val_Acc:98.37%\n",
      "Train Epoch: 2 Loss: 0.018138 Val_Loss:0.041687 Val_Acc:98.73%\n",
      "Train Epoch: 3 Loss: 0.044732 Val_Loss:0.024467 Val_Acc:99.12%\n",
      "Train Epoch: 4 Loss: 0.016753 Val_Loss:0.023385 Val_Acc:99.18%\n",
      "Train Epoch: 5 Loss: 0.114892 Val_Loss:0.023409 Val_Acc:99.34%\n",
      "Train Epoch: 6 Loss: 0.002744 Val_Loss:0.023371 Val_Acc:99.33%\n",
      "Train Epoch: 7 Loss: 0.066493 Val_Loss:0.024887 Val_Acc:99.34%\n",
      "Train Epoch: 8 Loss: 0.000588 Val_Loss:0.029569 Val_Acc:99.18%\n",
      "Train Epoch: 9 Loss: 0.049338 Val_Loss:0.029609 Val_Acc:99.11%\n",
      "Train Epoch: 10 Loss: 0.000311 Val_Loss:0.029818 Val_Acc:99.14%\n",
      "Train Epoch: 11 Loss: 0.000029 Val_Loss:0.035765 Val_Acc:99.27%\n",
      "Train Epoch: 12 Loss: 0.000261 Val_Loss:0.042579 Val_Acc:98.92%\n",
      "Train Epoch: 13 Loss: 0.018449 Val_Loss:0.026551 Val_Acc:99.31%\n",
      "Train Epoch: 14 Loss: 0.010977 Val_Loss:0.028332 Val_Acc:99.26%\n",
      "Train Epoch: 15 Loss: 0.000566 Val_Loss:0.022629 Val_Acc:99.26%\n",
      "Train Epoch: 16 Loss: 0.002903 Val_Loss:0.026531 Val_Acc:99.27%\n",
      "Train Epoch: 17 Loss: 0.000208 Val_Loss:0.026075 Val_Acc:99.37%\n",
      "Train Epoch: 18 Loss: 0.000287 Val_Loss:0.038029 Val_Acc:99.20%\n",
      "Train Epoch: 19 Loss: 0.006110 Val_Loss:0.026705 Val_Acc:99.40%\n",
      "Train Epoch: 20 Loss: 0.015502 Val_Loss:0.040256 Val_Acc:99.17%\n",
      "Train Epoch: 21 Loss: 0.033947 Val_Loss:0.026363 Val_Acc:99.34%\n",
      "Train Epoch: 22 Loss: 0.059264 Val_Loss:0.039193 Val_Acc:99.22%\n",
      "Train Epoch: 23 Loss: 0.000823 Val_Loss:0.027111 Val_Acc:99.42%\n",
      "Train Epoch: 24 Loss: 0.002524 Val_Loss:0.037129 Val_Acc:99.24%\n",
      "Train Epoch: 25 Loss: 0.000020 Val_Loss:0.032434 Val_Acc:99.35%\n",
      "Train Epoch: 26 Loss: 0.014613 Val_Loss:0.028101 Val_Acc:99.36%\n",
      "Train Epoch: 27 Loss: 0.000093 Val_Loss:0.036341 Val_Acc:99.27%\n",
      "Train Epoch: 28 Loss: 0.000035 Val_Loss:0.035756 Val_Acc:99.33%\n",
      "Train Epoch: 29 Loss: 0.000005 Val_Loss:0.037857 Val_Acc:99.30%\n",
      "Train Epoch: 30 Loss: 0.000002 Val_Loss:0.033893 Val_Acc:99.44%\n",
      "Train Epoch: 31 Loss: 0.002909 Val_Loss:0.041932 Val_Acc:99.26%\n",
      "Train Epoch: 32 Loss: 0.000022 Val_Loss:0.048850 Val_Acc:99.22%\n",
      "Train Epoch: 33 Loss: 0.000040 Val_Loss:0.048513 Val_Acc:99.36%\n",
      "Train Epoch: 34 Loss: 0.110544 Val_Loss:0.043214 Val_Acc:99.18%\n",
      "Train Epoch: 35 Loss: 0.000060 Val_Loss:0.034922 Val_Acc:99.28%\n",
      "Train Epoch: 36 Loss: 0.000001 Val_Loss:0.043556 Val_Acc:99.28%\n",
      "Train Epoch: 37 Loss: 0.000006 Val_Loss:0.043244 Val_Acc:99.31%\n",
      "Train Epoch: 38 Loss: 0.000062 Val_Loss:0.044852 Val_Acc:99.38%\n",
      "Train Epoch: 39 Loss: 0.001505 Val_Loss:0.046817 Val_Acc:99.34%\n",
      "Train Epoch: 40 Loss: 0.000016 Val_Loss:0.039910 Val_Acc:99.28%\n",
      "Train Epoch: 41 Loss: 0.000168 Val_Loss:0.038316 Val_Acc:99.28%\n",
      "Train Epoch: 42 Loss: 0.000035 Val_Loss:0.047680 Val_Acc:99.20%\n",
      "Train Epoch: 43 Loss: 0.000353 Val_Loss:0.044737 Val_Acc:99.34%\n",
      "Train Epoch: 44 Loss: 0.000146 Val_Loss:0.041021 Val_Acc:99.31%\n",
      "Train Epoch: 45 Loss: 0.000009 Val_Loss:0.048413 Val_Acc:99.24%\n",
      "Train Epoch: 46 Loss: 0.056470 Val_Loss:0.046822 Val_Acc:99.34%\n",
      "Train Epoch: 47 Loss: 0.000000 Val_Loss:0.041886 Val_Acc:99.36%\n",
      "Train Epoch: 48 Loss: 0.000002 Val_Loss:0.047549 Val_Acc:99.27%\n",
      "Train Epoch: 49 Loss: 0.000000 Val_Loss:0.055439 Val_Acc:99.18%\n",
      "Train Epoch: 50 Loss: 0.000002 Val_Loss:0.055942 Val_Acc:99.34%\n"
     ]
    }
   ],
   "source": [
    "for epoch in range(1, n_epochs + 1):\n",
    "    train(epoch)\n",
    "    test()\n",
    "    print('Train Epoch: {} Loss: {:.6f} Val_Loss:{:.6f} Val_Acc:{:.2%}'.format(\n",
    "        epoch, train_losses[-1],test_losses[-1],test_correct[-1]/len(test_loader.dataset)))\n",
    "    test_counter.append(epoch*len(train_loader.dataset))\n"
   ]
  },
  {
   "cell_type": "code",
   "execution_count": 17,
   "metadata": {},
   "outputs": [
    {
     "data": {
      "image/png": "[encoded data removed]",
      "text/plain": [
       "<Figure size 432x288 with 1 Axes>"
      ]
     },
     "metadata": {
      "needs_background": "light"
     },
     "output_type": "display_data"
    }
   ],
   "source": [
    "fig = plt.figure()\n",
    "plt.plot(train_counter,np.convolve(train_losses,np.ones((20,))/20,mode='same'), color='blue')\n",
    "plt.plot(test_counter,test_losses, color='red')\n",
    "plt.legend(['Train Loss', 'Test Loss'], loc='upper right')\n",
    "plt.xlabel('number of training examples seen')\n",
    "plt.ylabel('negative log likelihood loss')\n",
    "plt.show()"
   ]
  },
  {
   "cell_type": "code",
   "execution_count": 18,
   "metadata": {},
   "outputs": [
    {
     "data": {
      "image/png": "[encoded data removed]",
      "text/plain": [
       "<Figure size 432x288 with 1 Axes>"
      ]
     },
     "metadata": {
      "needs_background": "light"
     },
     "output_type": "display_data"
    }
   ],
   "source": [
    "fig = plt.figure()\n",
    "plt.plot(train_counter,np.convolve(train_losses,np.ones((40,))/40,mode='same'), color='blue')\n",
    "plt.plot(test_counter,test_losses, color='red')\n",
    "plt.legend(['Train Loss', 'Test Loss'], loc='upper right')\n",
    "plt.ylim([0,0.25])\n",
    "plt.xlabel('number of training examples seen')\n",
    "plt.ylabel('negative log likelihood loss')\n",
    "plt.show()"
   ]
  },
  {
   "cell_type": "code",
   "execution_count": 16,
   "metadata": {},
   "outputs": [],
   "source": [
    "with open('/data/baseline_{}'.format(random_seed),'wb') as f:\n",
    "    pickle.dump([train_losses,train_correct,train_counter,test_losses,test_counter,test_correct],f)"
   ]
  },
  {
   "cell_type": "code",
   "execution_count": 19,
   "metadata": {},
   "outputs": [],
   "source": [
    "with torch.no_grad():\n",
    "    output = network(example_data.cuda())"
   ]
  },
  {
   "cell_type": "code",
   "execution_count": 20,
   "metadata": {},
   "outputs": [
    {
     "data": {
      "image/png": "[encoded data removed]",
      "text/plain": [
       "<Figure size 432x288 with 6 Axes>"
      ]
     },
     "metadata": {},
     "output_type": "display_data"
    }
   ],
   "source": [
    "fig = plt.figure()\n",
    "for i in range(6):\n",
    "    plt.subplot(2,3,i+1)\n",
    "    plt.tight_layout()\n",
    "    plt.imshow(example_data[i][0].cuda(), cmap='gray', interpolation='none')\n",
    "    plt.title(\"Prediction: {}\".format(\n",
    "    output.data.max(1, keepdim=True)[1][i].item()))\n",
    "    plt.xticks([])\n",
    "    plt.yticks([])\n",
    "plt.show()"
   ]
  },
  {
   "cell_type": "code",
   "execution_count": null,
   "metadata": {},
   "outputs": [],
   "source": []
  }
 ],
 "metadata": {
  "kernelspec": {
   "display_name": "Python 3",
   "language": "python",
   "name": "python3"
  },
  "language_info": {
   "codemirror_mode": {
    "name": "ipython",
    "version": 3
   },
   "file_extension": ".py",
   "mimetype": "text/x-python",
   "name": "python",
   "nbconvert_exporter": "python",
   "pygments_lexer": "ipython3",
   "version": "3.5.2"
  }
 },
 "nbformat": 4,
 "nbformat_minor": 2
}
